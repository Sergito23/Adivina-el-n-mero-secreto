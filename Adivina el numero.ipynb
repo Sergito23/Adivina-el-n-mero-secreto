{
 "cells": [
  {
   "cell_type": "code",
   "execution_count": null,
   "id": "f9341cbb",
   "metadata": {},
   "outputs": [],
   "source": [
    "import random\n",
    "numero_minimo = 1\n",
    "numero_maximo = 100\n",
    "numero_secreto = random.randint(numero_minimo, numero_maximo)\n",
    "adivinanza = 0\n",
    "while adivinanza != numero_secreto:\n",
    "    adivinanza = int(input(\"Adivina un número entre {} y {}: \".format(numero_minimo, numero_maximo)))\n",
    "    if adivinanza < numero_secreto:\n",
    "        print(\"El número secreto es mayor.\")\n",
    "    elif adivinanza > numero_secreto:\n",
    "        print(\"El número secreto es menor.\")\n",
    "print(\"¡Felicidades! Adivinaste el número secreto {}.\".format(numero_secreto))\n"
   ]
  }
 ],
 "metadata": {
  "kernelspec": {
   "display_name": "Python 3 (ipykernel)",
   "language": "python",
   "name": "python3"
  },
  "language_info": {
   "codemirror_mode": {
    "name": "ipython",
    "version": 3
   },
   "file_extension": ".py",
   "mimetype": "text/x-python",
   "name": "python",
   "nbconvert_exporter": "python",
   "pygments_lexer": "ipython3",
   "version": "3.10.9"
  }
 },
 "nbformat": 4,
 "nbformat_minor": 5
}
